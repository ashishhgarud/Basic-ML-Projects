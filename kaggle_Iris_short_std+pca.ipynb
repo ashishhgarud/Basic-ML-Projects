{
 "cells": [
  {
   "cell_type": "code",
   "execution_count": 1,
   "metadata": {},
   "outputs": [],
   "source": [
    "import numpy as np\n",
    "import pandas as pd\n",
    "import sklearn as skl\n",
    "import matplotlib.pyplot as plt\n",
    "import seaborn as sns"
   ]
  },
  {
   "cell_type": "code",
   "execution_count": 2,
   "metadata": {},
   "outputs": [],
   "source": [
    "import warnings # current version of seaborn generates a bunch of warnings that will be ignore\n",
    "warnings.filterwarnings('ignore')"
   ]
  },
  {
   "cell_type": "code",
   "execution_count": 3,
   "metadata": {},
   "outputs": [],
   "source": [
    "from sklearn import datasets"
   ]
  },
  {
   "cell_type": "code",
   "execution_count": 4,
   "metadata": {},
   "outputs": [],
   "source": [
    "iris_flower = datasets.load_iris()"
   ]
  },
  {
   "cell_type": "code",
   "execution_count": 5,
   "metadata": {},
   "outputs": [],
   "source": [
    "X = pd.DataFrame(iris_flower.data, columns=iris_flower.feature_names)\n",
    "\n",
    "y = pd.DataFrame(iris_flower.target, columns=['target'])"
   ]
  },
  {
   "cell_type": "markdown",
   "metadata": {},
   "source": [
    "# -------------------------------------"
   ]
  },
  {
   "cell_type": "code",
   "execution_count": 6,
   "metadata": {},
   "outputs": [],
   "source": [
    "from sklearn.preprocessing import StandardScaler"
   ]
  },
  {
   "cell_type": "code",
   "execution_count": 7,
   "metadata": {},
   "outputs": [],
   "source": [
    "std_X = StandardScaler().fit_transform(X)\n",
    "\n",
    "std_X = pd.DataFrame(data = std_X, columns = X.columns)"
   ]
  },
  {
   "cell_type": "code",
   "execution_count": 8,
   "metadata": {},
   "outputs": [],
   "source": [
    "from sklearn.decomposition import PCA"
   ]
  },
  {
   "cell_type": "code",
   "execution_count": 20,
   "metadata": {},
   "outputs": [],
   "source": [
    "pca_X = PCA().fit_transform(X) # n_components=2\n",
    "\n",
    "pca_X = pd.DataFrame(data = pca_X)#, columns = ['PC 1', 'PC 2', 'PC 3', 'PC 4'])"
   ]
  },
  {
   "cell_type": "code",
   "execution_count": null,
   "metadata": {},
   "outputs": [],
   "source": []
  },
  {
   "cell_type": "code",
   "execution_count": 10,
   "metadata": {},
   "outputs": [],
   "source": [
    "std_pca_X = PCA().fit_transform(std_X)\n",
    "\n",
    "std_pca_X = pd.DataFrame(data = std_pca_X)#, columns = ['PC 1', 'PC 2', 'PC 3', 'PC 4'])"
   ]
  },
  {
   "cell_type": "markdown",
   "metadata": {},
   "source": [
    "# -------------------------------------"
   ]
  },
  {
   "cell_type": "code",
   "execution_count": 11,
   "metadata": {},
   "outputs": [],
   "source": [
    "from sklearn import model_selection"
   ]
  },
  {
   "cell_type": "code",
   "execution_count": 12,
   "metadata": {},
   "outputs": [],
   "source": [
    "from sklearn.linear_model import LinearRegression\n",
    "from sklearn.linear_model import LogisticRegression\n",
    "from sklearn.neighbors import KNeighborsClassifier\n",
    "from sklearn.svm import SVC\n",
    "from sklearn.naive_bayes import GaussianNB\n",
    "from sklearn.tree import DecisionTreeClassifier\n",
    "\n",
    "from sklearn.model_selection import cross_val_predict\n",
    "from sklearn.model_selection import cross_val_score\n",
    "\n",
    "from sklearn import metrics\n",
    "from sklearn.metrics import accuracy_score\n",
    "from sklearn.metrics import confusion_matrix\n",
    "from sklearn.metrics import classification_report"
   ]
  },
  {
   "cell_type": "code",
   "execution_count": 13,
   "metadata": {},
   "outputs": [],
   "source": [
    "from sklearn.model_selection import LeaveOneOut"
   ]
  },
  {
   "cell_type": "code",
   "execution_count": 17,
   "metadata": {},
   "outputs": [
    {
     "name": "stdout",
     "output_type": "stream",
     "text": [
      "LR: 0.953333 (0.210924)\n",
      "KNN: 0.966667 (0.179505)\n",
      "CART: 0.946667 (0.224697)\n",
      "NB: 0.953333 (0.210924)\n",
      "SVM: 0.973333 (0.161107)\n"
     ]
    }
   ],
   "source": [
    "# Spot check algorithms\n",
    "models = []\n",
    "models.append(('LR', LogisticRegression()))\n",
    "#models.append(('LDA', LinearDiscriminantAnalysis()))\n",
    "models.append(('KNN', KNeighborsClassifier()))\n",
    "models.append(('CART', DecisionTreeClassifier()))\n",
    "models.append(('NB', GaussianNB()))\n",
    "models.append(('SVM', SVC()))\n",
    "\n",
    "# evaluate each model\n",
    "results = []\n",
    "names = []\n",
    "results_mean = []\n",
    "for name, model in models:\n",
    "    loocv = model_selection.LeaveOneOut()\n",
    "    cv_results = model_selection.cross_val_score(model, X, y, cv = loocv, scoring = 'accuracy')  \n",
    "    \n",
    "    results.append(cv_results)\n",
    "    names.append(name)\n",
    "    results_mean.append(cv_results.mean())\n",
    "    msg = \"%s: %f (%f)\" % (name, cv_results.mean(), cv_results.std())\n",
    "    print(msg)"
   ]
  },
  {
   "cell_type": "code",
   "execution_count": 14,
   "metadata": {},
   "outputs": [
    {
     "name": "stdout",
     "output_type": "stream",
     "text": [
      "LR: 0.893333 (0.308689)\n",
      "KNN: 0.946667 (0.224697)\n",
      "CART: 0.940000 (0.237487)\n",
      "NB: 0.953333 (0.210924)\n",
      "SVM: 0.966667 (0.179505)\n"
     ]
    }
   ],
   "source": [
    "# Spot check algorithms\n",
    "models = []\n",
    "models.append(('LR', LogisticRegression()))\n",
    "#models.append(('LDA', LinearDiscriminantAnalysis()))\n",
    "models.append(('KNN', KNeighborsClassifier()))\n",
    "models.append(('CART', DecisionTreeClassifier()))\n",
    "models.append(('NB', GaussianNB()))\n",
    "models.append(('SVM', SVC()))\n",
    "\n",
    "# evaluate each model\n",
    "results = []\n",
    "names = []\n",
    "results_mean = []\n",
    "for name, model in models:\n",
    "    loocv = model_selection.LeaveOneOut()\n",
    "    cv_results = model_selection.cross_val_score(model, std_X, y, cv = loocv, scoring = 'accuracy')  \n",
    "    \n",
    "    results.append(cv_results)\n",
    "    names.append(name)\n",
    "    results_mean.append(cv_results.mean())\n",
    "    msg = \"%s: %f (%f)\" % (name, cv_results.mean(), cv_results.std())\n",
    "    print(msg)"
   ]
  },
  {
   "cell_type": "code",
   "execution_count": 21,
   "metadata": {},
   "outputs": [
    {
     "name": "stdout",
     "output_type": "stream",
     "text": [
      "LR: 0.913333 (0.281346)\n",
      "KNN: 0.966667 (0.179505)\n",
      "CART: 0.953333 (0.210924)\n",
      "NB: 0.933333 (0.249444)\n",
      "SVM: 0.973333 (0.161107)\n"
     ]
    }
   ],
   "source": [
    "# Spot check algorithms\n",
    "models = []\n",
    "models.append(('LR', LogisticRegression()))\n",
    "models.append(('LDA', LinearDiscriminantAnalysis()))\n",
    "models.append(('KNN', KNeighborsClassifier()))\n",
    "models.append(('CART', DecisionTreeClassifier()))\n",
    "models.append(('NB', GaussianNB()))\n",
    "models.append(('SVM', SVC()))\n",
    "\n",
    "#pca = PCA(n_components=2)\n",
    "#X_pca = pca.fit_transform(X)\n",
    "\n",
    "# evaluate each model\n",
    "results = []\n",
    "names = []\n",
    "for name, model in models:\n",
    "    model.fit(pca_X, y)\n",
    "    newdata_transformed = pca.transform(X)\n",
    "    predictions = model.predict(newdata_transformed)\n",
    "    cv_results = accuracy_score(y, predictions)\n",
    "    \n",
    "    results.append(cv_results)\n",
    "    names.append(name)\n",
    "    msg = \"%s: %f \" % (name, cv_results)\n",
    "    print(msg)"
   ]
  },
  {
   "cell_type": "code",
   "execution_count": 16,
   "metadata": {},
   "outputs": [
    {
     "name": "stdout",
     "output_type": "stream",
     "text": [
      "LR: 0.893333 (0.308689)\n",
      "KNN: 0.946667 (0.224697)\n",
      "CART: 0.920000 (0.271293)\n",
      "NB: 0.926667 (0.260683)\n",
      "SVM: 0.966667 (0.179505)\n"
     ]
    }
   ],
   "source": [
    "# Spot check algorithms\n",
    "models = []\n",
    "models.append(('LR', LogisticRegression()))\n",
    "#models.append(('LDA', LinearDiscriminantAnalysis()))\n",
    "models.append(('KNN', KNeighborsClassifier()))\n",
    "models.append(('CART', DecisionTreeClassifier()))\n",
    "models.append(('NB', GaussianNB()))\n",
    "models.append(('SVM', SVC()))\n",
    "\n",
    "# evaluate each model\n",
    "results = []\n",
    "names = []\n",
    "results_mean = []\n",
    "for name, model in models:\n",
    "    loocv = model_selection.LeaveOneOut()\n",
    "    cv_results = model_selection.cross_val_score(model, std_pca_X, y, cv = loocv, scoring = 'accuracy')  \n",
    "    \n",
    "    results.append(cv_results)\n",
    "    names.append(name)\n",
    "    results_mean.append(cv_results.mean())\n",
    "    msg = \"%s: %f (%f)\" % (name, cv_results.mean(), cv_results.std())\n",
    "    print(msg)"
   ]
  }
 ],
 "metadata": {
  "kernelspec": {
   "display_name": "Python 3",
   "language": "python",
   "name": "python3"
  },
  "language_info": {
   "codemirror_mode": {
    "name": "ipython",
    "version": 3
   },
   "file_extension": ".py",
   "mimetype": "text/x-python",
   "name": "python",
   "nbconvert_exporter": "python",
   "pygments_lexer": "ipython3",
   "version": "3.7.4"
  }
 },
 "nbformat": 4,
 "nbformat_minor": 4
}
