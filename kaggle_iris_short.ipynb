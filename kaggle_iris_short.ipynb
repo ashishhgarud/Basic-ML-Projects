{
 "cells": [
  {
   "cell_type": "code",
   "execution_count": 1,
   "metadata": {},
   "outputs": [],
   "source": [
    "import numpy as np\n",
    "import pandas as pd\n",
    "import matplotlib.pyplot as plt\n",
    "import seaborn as sns"
   ]
  },
  {
   "cell_type": "code",
   "execution_count": 4,
   "metadata": {},
   "outputs": [],
   "source": [
    "iris = pd.read_csv(\"iris.data\", names = ['sepal-length', 'sepal-width', 'petal-length', 'petal-width', 'class'])"
   ]
  },
  {
   "cell_type": "code",
   "execution_count": 12,
   "metadata": {},
   "outputs": [],
   "source": [
    "X = iris.drop('class', axis=1) \n",
    "dict = {'Iris-setosa':0, 'Iris-versicolor':1, 'Iris-virginica':2}\n",
    "y = pd.DataFrame(iris['class'].map(dict))"
   ]
  },
  {
   "cell_type": "code",
   "execution_count": 14,
   "metadata": {},
   "outputs": [],
   "source": [
    "from sklearn.preprocessing import StandardScaler\n",
    "from sklearn.decomposition import PCA\n",
    "from sklearn.linear_model import LinearRegression\n",
    "from sklearn.pipeline import Pipeline\n",
    "from sklearn.model_selection import train_test_split\n",
    "from sklearn.metrics import r2_score\n",
    "\n",
    "#sc = StandardScaler()\n",
    "sc = StandardScaler()\n",
    "#y_std = sc.fit_transform(y_train[:, np.newaxis]).flatten()\n",
    "\n",
    "train_score = [] \n",
    "test_score  = []\n",
    "\n",
    "for i in range(10):\n",
    "    X_train, X_test, y_train, y_test = train_test_split( X, y, test_size=0.4, random_state=i)\n",
    "    y_train_std = sc.fit_transform(y_train).flatten()\n",
    "    \n",
    "    pipe_lr = Pipeline([('scl', StandardScaler()),\n",
    "                        ('pca', PCA(n_components=4)),\n",
    "                        ('slr', LinearRegression())])\n",
    "    pipe_lr.fit(X_train, y_train_std)\n",
    "    \n",
    "    y_train_pred_std = pipe_lr.predict(X_train)\n",
    "    y_test_pred_std = pipe_lr.predict(X_test)\n",
    "    y_train_pred = sc.inverse_transform(y_train_pred_std)\n",
    "    y_test_pred = sc.inverse_transform(y_test_pred_std)\n",
    "    \n",
    "    train_score = np.append(train_score, r2_score(y_train, y_train_pred))\n",
    "    test_score = np.append(test_score, r2_score(y_test, y_test_pred))"
   ]
  },
  {
   "cell_type": "code",
   "execution_count": 15,
   "metadata": {},
   "outputs": [
    {
     "data": {
      "text/plain": [
       "array([0.95186237, 0.9348557 , 0.92580402, 0.93293117, 0.92389295,\n",
       "       0.93546603, 0.92943259, 0.94261688, 0.93626636, 0.92326406])"
      ]
     },
     "execution_count": 15,
     "metadata": {},
     "output_type": "execute_result"
    }
   ],
   "source": [
    "train_score"
   ]
  },
  {
   "cell_type": "code",
   "execution_count": 16,
   "metadata": {},
   "outputs": [
    {
     "data": {
      "text/plain": [
       "array([0.88860932, 0.91011914, 0.933908  , 0.91947361, 0.93553744,\n",
       "       0.91935254, 0.92562502, 0.90749922, 0.91656209, 0.93981762])"
      ]
     },
     "execution_count": 16,
     "metadata": {},
     "output_type": "execute_result"
    }
   ],
   "source": [
    "test_score"
   ]
  },
  {
   "cell_type": "code",
   "execution_count": null,
   "metadata": {},
   "outputs": [],
   "source": []
  }
 ],
 "metadata": {
  "kernelspec": {
   "display_name": "Python 3",
   "language": "python",
   "name": "python3"
  },
  "language_info": {
   "codemirror_mode": {
    "name": "ipython",
    "version": 3
   },
   "file_extension": ".py",
   "mimetype": "text/x-python",
   "name": "python",
   "nbconvert_exporter": "python",
   "pygments_lexer": "ipython3",
   "version": "3.7.4"
  }
 },
 "nbformat": 4,
 "nbformat_minor": 4
}
